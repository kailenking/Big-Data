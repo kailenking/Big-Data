{
 "cells": [
  {
   "cell_type": "code",
   "execution_count": 163,
   "id": "c1fa7169",
   "metadata": {},
   "outputs": [
    {
     "data": {
      "text/html": [
       "<div>\n",
       "<style scoped>\n",
       "    .dataframe tbody tr th:only-of-type {\n",
       "        vertical-align: middle;\n",
       "    }\n",
       "\n",
       "    .dataframe tbody tr th {\n",
       "        vertical-align: top;\n",
       "    }\n",
       "\n",
       "    .dataframe thead th {\n",
       "        text-align: right;\n",
       "    }\n",
       "</style>\n",
       "<table border=\"1\" class=\"dataframe\">\n",
       "  <thead>\n",
       "    <tr style=\"text-align: right;\">\n",
       "      <th></th>\n",
       "      <th>age</th>\n",
       "      <th>anaemia</th>\n",
       "      <th>creatinine_phosphokinase</th>\n",
       "      <th>diabetes</th>\n",
       "      <th>ejection_fraction</th>\n",
       "      <th>high_blood_pressure</th>\n",
       "      <th>platelets</th>\n",
       "      <th>serum_creatinine</th>\n",
       "      <th>serum_sodium</th>\n",
       "      <th>sex</th>\n",
       "      <th>smoking</th>\n",
       "      <th>time</th>\n",
       "      <th>DEATH_EVENT</th>\n",
       "    </tr>\n",
       "  </thead>\n",
       "  <tbody>\n",
       "    <tr>\n",
       "      <th>0</th>\n",
       "      <td>75.0</td>\n",
       "      <td>0</td>\n",
       "      <td>582</td>\n",
       "      <td>0</td>\n",
       "      <td>20</td>\n",
       "      <td>1</td>\n",
       "      <td>265000.00</td>\n",
       "      <td>1.9</td>\n",
       "      <td>130</td>\n",
       "      <td>1</td>\n",
       "      <td>0</td>\n",
       "      <td>4</td>\n",
       "      <td>1</td>\n",
       "    </tr>\n",
       "    <tr>\n",
       "      <th>1</th>\n",
       "      <td>55.0</td>\n",
       "      <td>0</td>\n",
       "      <td>7861</td>\n",
       "      <td>0</td>\n",
       "      <td>38</td>\n",
       "      <td>0</td>\n",
       "      <td>263358.03</td>\n",
       "      <td>1.1</td>\n",
       "      <td>136</td>\n",
       "      <td>1</td>\n",
       "      <td>0</td>\n",
       "      <td>6</td>\n",
       "      <td>1</td>\n",
       "    </tr>\n",
       "    <tr>\n",
       "      <th>2</th>\n",
       "      <td>65.0</td>\n",
       "      <td>0</td>\n",
       "      <td>146</td>\n",
       "      <td>0</td>\n",
       "      <td>20</td>\n",
       "      <td>0</td>\n",
       "      <td>162000.00</td>\n",
       "      <td>1.3</td>\n",
       "      <td>129</td>\n",
       "      <td>1</td>\n",
       "      <td>1</td>\n",
       "      <td>7</td>\n",
       "      <td>1</td>\n",
       "    </tr>\n",
       "    <tr>\n",
       "      <th>3</th>\n",
       "      <td>50.0</td>\n",
       "      <td>1</td>\n",
       "      <td>111</td>\n",
       "      <td>0</td>\n",
       "      <td>20</td>\n",
       "      <td>0</td>\n",
       "      <td>210000.00</td>\n",
       "      <td>1.9</td>\n",
       "      <td>137</td>\n",
       "      <td>1</td>\n",
       "      <td>0</td>\n",
       "      <td>7</td>\n",
       "      <td>1</td>\n",
       "    </tr>\n",
       "    <tr>\n",
       "      <th>4</th>\n",
       "      <td>65.0</td>\n",
       "      <td>1</td>\n",
       "      <td>160</td>\n",
       "      <td>1</td>\n",
       "      <td>20</td>\n",
       "      <td>0</td>\n",
       "      <td>327000.00</td>\n",
       "      <td>2.7</td>\n",
       "      <td>116</td>\n",
       "      <td>0</td>\n",
       "      <td>0</td>\n",
       "      <td>8</td>\n",
       "      <td>1</td>\n",
       "    </tr>\n",
       "  </tbody>\n",
       "</table>\n",
       "</div>"
      ],
      "text/plain": [
       "    age  anaemia  creatinine_phosphokinase  diabetes  ejection_fraction  \\\n",
       "0  75.0        0                       582         0                 20   \n",
       "1  55.0        0                      7861         0                 38   \n",
       "2  65.0        0                       146         0                 20   \n",
       "3  50.0        1                       111         0                 20   \n",
       "4  65.0        1                       160         1                 20   \n",
       "\n",
       "   high_blood_pressure  platelets  serum_creatinine  serum_sodium  sex  \\\n",
       "0                    1  265000.00               1.9           130    1   \n",
       "1                    0  263358.03               1.1           136    1   \n",
       "2                    0  162000.00               1.3           129    1   \n",
       "3                    0  210000.00               1.9           137    1   \n",
       "4                    0  327000.00               2.7           116    0   \n",
       "\n",
       "   smoking  time  DEATH_EVENT  \n",
       "0        0     4            1  \n",
       "1        0     6            1  \n",
       "2        1     7            1  \n",
       "3        0     7            1  \n",
       "4        0     8            1  "
      ]
     },
     "execution_count": 163,
     "metadata": {},
     "output_type": "execute_result"
    }
   ],
   "source": [
    "import numpy as np\n",
    "import pandas as pd\n",
    "import seaborn as sns\n",
    "from tqdm.notebook import tqdm\n",
    "import matplotlib.pyplot as plt\n",
    "import torch\n",
    "import torch.nn as nn\n",
    "import torch.optim as optim\n",
    "from torch.utils.data import Dataset, DataLoader\n",
    "from sklearn.preprocessing import MinMaxScaler    \n",
    "from sklearn.model_selection import train_test_split\n",
    "from sklearn.metrics import mean_squared_error, r2_score\n",
    "from sklearn.metrics import mean_absolute_error\n",
    "\n",
    "df = pd.read_csv (\"~/Desktop/heart_failure_clinical_records_dataset.csv\")\n",
    "df.head()\n",
    "\n",
    "\n"
   ]
  },
  {
   "cell_type": "code",
   "execution_count": 164,
   "id": "cb6fe542",
   "metadata": {},
   "outputs": [
    {
     "data": {
      "image/png": "[encoded data removed]",
      "text/plain": [
       "<Figure size 432x288 with 1 Axes>"
      ]
     },
     "metadata": {
      "needs_background": "light"
     },
     "output_type": "display_data"
    }
   ],
   "source": [
    "sns.countplot(x = 'serum_creatinine', data=df)\n",
    "#sns.histplot(data=df, x=\"pressureLevel\") #for continuous values\n",
    "plt.show()\n",
    "\n",
    "\n"
   ]
  },
  {
   "cell_type": "code",
   "execution_count": 165,
   "id": "1f5afd3b",
   "metadata": {},
   "outputs": [
    {
     "data": {
      "text/plain": [
       "<AxesSubplot:xlabel='serum_creatinine', ylabel='Count'>"
      ]
     },
     "execution_count": 165,
     "metadata": {},
     "output_type": "execute_result"
    },
    {
     "data": {
      "image/png": "[encoded data removed]",
      "text/plain": [
       "<Figure size 432x288 with 1 Axes>"
      ]
     },
     "metadata": {
      "needs_background": "light"
     },
     "output_type": "display_data"
    }
   ],
   "source": [
    "sns.histplot(data=df, x=\"serum_creatinine\") #for continuous values"
   ]
  },
  {
   "cell_type": "code",
   "execution_count": 436,
   "id": "d8a2392f",
   "metadata": {},
   "outputs": [],
   "source": [
    "#input\n",
    "all_X = df.drop(df.columns[[-1]],axis=1)\n",
    "#output\n",
    "all_Y = df.iloc[:,7]"
   ]
  },
  {
   "cell_type": "code",
   "execution_count": 437,
   "id": "72361fe7",
   "metadata": {},
   "outputs": [],
   "source": [
    "#Split using numpy.  Stratify lets us evenly distribute the above (uneven) categories.\n",
    "trainval_x, test_x, trainval_y, test_y = train_test_split(all_X, all_Y, \n",
    "                                                    test_size=0.2,\n",
    "                                                    random_state=69)\n",
    "\n",
    "train_x, x_val, train_y, y_val = train_test_split(trainval_x, trainval_y,\n",
    "                                                  test_size=0.1,\n",
    "                                                  random_state=21)"
   ]
  },
  {
   "cell_type": "code",
   "execution_count": 438,
   "id": "9427bd57",
   "metadata": {},
   "outputs": [],
   "source": [
    "#MinMaxScale - get everything on a scale from 0-1.\n",
    "scaler = MinMaxScaler()\n",
    "\n",
    "train_x = scaler.fit_transform(train_x)\n",
    "x_val = scaler.transform(x_val)\n",
    "test_x = scaler.transform(test_x)\n",
    "\n",
    "train_x, train_y = np.array(train_x), np.array(train_y)\n",
    "x_val, y_val = np.array(x_val), np.array(y_val)\n",
    "test_x, test_y = np.array(test_x), np.array(test_y)\n"
   ]
  },
  {
   "cell_type": "code",
   "execution_count": 439,
   "id": "20a67da5",
   "metadata": {},
   "outputs": [],
   "source": [
    "#distribute evenly.\n",
    "def get_class_distribution(obj):\n",
    "    count_dict = {\n",
    "        \"length_254\": 0,\n",
    "        \"length_508\": 0,\n",
    "        \"length_1016\": 0,\n",
    "        \"length_1524\": 0,\n",
    "        \"length_2286\": 0,\n",
    "        \"length_3058\": 0,\n",
    "    }\n",
    "    \n",
    "    for i in obj:\n",
    "        if i == 0.0254: \n",
    "            count_dict['length_254'] += 1\n",
    "        elif i == 0.0508: \n",
    "            count_dict['length_508'] += 1\n",
    "        elif i == 0.1016: \n",
    "            count_dict['length_1016'] += 1\n",
    "        elif i == 0.1524: \n",
    "            count_dict['length_1524'] += 1\n",
    "        elif i == 0.2286: \n",
    "            count_dict['length_2286'] += 1  \n",
    "        elif i == 0.3058: \n",
    "            count_dict['length_3058'] += 1              \n",
    "        else:\n",
    "            print(\"Something doesn't match! Error state.\")\n",
    "            \n",
    "    return count_dict"
   ]
  },
  {
   "cell_type": "code",
   "execution_count": 440,
   "id": "3cc6a02b",
   "metadata": {},
   "outputs": [],
   "source": [
    "#Convert to a float (don't... know why.)\n",
    "train_y, test_y, y_val = train_y.astype(float), test_y.astype(float), y_val.astype(float)"
   ]
  },
  {
   "cell_type": "code",
   "execution_count": 441,
   "id": "f0feb275",
   "metadata": {},
   "outputs": [],
   "source": [
    "#Initialize dataset\n",
    "class RegressionDataset(Dataset):\n",
    "    \n",
    "    def __init__(self, data_x, data_y):\n",
    "        self.data_x = data_x\n",
    "        self.data_y = data_y\n",
    "        \n",
    "    def __getitem__(self, index):\n",
    "        return self.data_x[index], self.data_y[index]\n",
    "    \n",
    "    def __len__(self):\n",
    "        return len(self.data_x)\n",
    "    \n",
    "train_dataset = RegressionDataset(torch.from_numpy(train_x).float(),\n",
    "                                 torch.from_numpy(train_y).float())\n",
    "\n",
    "val_dataset = RegressionDataset(torch.from_numpy(x_val).float(),\n",
    "                                 torch.from_numpy(y_val).float())\n",
    "\n",
    "test_dataset = RegressionDataset(torch.from_numpy(test_x).float(),\n",
    "                                 torch.from_numpy(test_y).float())"
   ]
  },
  {
   "cell_type": "code",
   "execution_count": 442,
   "id": "08dcd8c2",
   "metadata": {},
   "outputs": [],
   "source": [
    "#Model Parameters\n",
    "EPOCHS = 200\n",
    "BATCH_SIZE = 500\n",
    "LEARNING_RATE = 0.1\n",
    "NUM_FEATURES = len(all_X.columns)"
   ]
  },
  {
   "cell_type": "code",
   "execution_count": 443,
   "id": "8e792973",
   "metadata": {},
   "outputs": [],
   "source": [
    "#Initialize the dataloader\n",
    "train_loader = DataLoader(dataset=train_dataset,\n",
    "                          batch_size = BATCH_SIZE, shuffle=True)\n",
    "\n",
    "val_loader = DataLoader(dataset=val_dataset, batch_size=1)\n",
    "\n",
    "test_loader = DataLoader(dataset=test_dataset, batch_size=1)\n",
    "\n"
   ]
  },
  {
   "cell_type": "code",
   "execution_count": 444,
   "id": "ea33d239",
   "metadata": {},
   "outputs": [],
   "source": [
    "#Define the Neural Network Architecture.  \n",
    "class MultipleRegression(nn.Module):\n",
    "    def __init__(self, num_features):\n",
    "        super(MultipleRegression, self).__init__()\n",
    "        \n",
    "        self.layer_1 = nn.Linear(num_features, 5)\n",
    "        self.layer_2 = nn.Linear(5, 10)\n",
    "        self.layer_3 = nn.Linear(10, 10)\n",
    "        self.layer_out = nn.Linear(10,1)\n",
    "        \n",
    "        self.relu = nn.ReLU()\n",
    "        \n",
    "    def forward(self, inputs):\n",
    "        x = self.relu(self.layer_1(inputs))\n",
    "        x = self.relu(self.layer_2(x))\n",
    "        x = self.relu(self.layer_3(x))\n",
    "        x = self.layer_out(x)\n",
    "        \n",
    "        return(x)\n",
    "    \n",
    "    def predict(self, test_inputs):\n",
    "        x = self.relu(self.layer_1(test_inputs))\n",
    "        x = self.relu(self.layer_2(x))\n",
    "        x = self.relu(self.layer_3(x))\n",
    "        x = self.layer_out(x)\n",
    "        \n",
    "        return(x)\n",
    "\n"
   ]
  },
  {
   "cell_type": "code",
   "execution_count": 445,
   "id": "a3ef0b22",
   "metadata": {},
   "outputs": [
    {
     "name": "stdout",
     "output_type": "stream",
     "text": [
      "cpu\n"
     ]
    }
   ],
   "source": [
    "#Check for a GPU\n",
    "device = torch.device(\"cuda:0\" if torch.cuda.is_available() else \"cpu\")\n",
    "print(device)"
   ]
  },
  {
   "cell_type": "code",
   "execution_count": 446,
   "id": "557a1eb4",
   "metadata": {},
   "outputs": [
    {
     "name": "stdout",
     "output_type": "stream",
     "text": [
      "MultipleRegression(\n",
      "  (layer_1): Linear(in_features=12, out_features=5, bias=True)\n",
      "  (layer_2): Linear(in_features=5, out_features=10, bias=True)\n",
      "  (layer_3): Linear(in_features=10, out_features=10, bias=True)\n",
      "  (layer_out): Linear(in_features=10, out_features=1, bias=True)\n",
      "  (relu): ReLU()\n",
      ")\n"
     ]
    }
   ],
   "source": [
    "model = MultipleRegression(NUM_FEATURES)\n",
    "model.to(device)\n",
    "\n",
    "print(model)\n",
    "\n",
    "criterion = nn.MSELoss()\n",
    "optimizer = optim.Adam(model.parameters(), lr=LEARNING_RATE)"
   ]
  },
  {
   "cell_type": "code",
   "execution_count": 447,
   "id": "01c96052",
   "metadata": {},
   "outputs": [],
   "source": [
    "#A dictionary to store our loss and epoch\n",
    "loss_stats = {\n",
    "    'train': [],\n",
    "    'val': []\n",
    "}"
   ]
  },
  {
   "cell_type": "code",
   "execution_count": 448,
   "id": "43e45d7e",
   "metadata": {},
   "outputs": [
    {
     "name": "stdout",
     "output_type": "stream",
     "text": [
      "Begin training.\n"
     ]
    },
    {
     "data": {
      "application/vnd.jupyter.widget-view+json": {
       "model_id": "87c75c0a1a694a85b88213f93e484acd",
       "version_major": 2,
       "version_minor": 0
      },
      "text/plain": [
       "  0%|          | 0/200 [00:00<?, ?it/s]"
      ]
     },
     "metadata": {},
     "output_type": "display_data"
    },
    {
     "name": "stdout",
     "output_type": "stream",
     "text": [
      "Epoch 001: | Train Loss: 3.70744 | Val Loss: 2.53717\n",
      "Epoch 002: | Train Loss: 2.12632 | Val Loss: 1.40144\n",
      "Epoch 003: | Train Loss: 1.15974 | Val Loss: 2.08029\n",
      "Epoch 004: | Train Loss: 1.95959 | Val Loss: 1.33044\n",
      "Epoch 005: | Train Loss: 1.09175 | Val Loss: 1.56435\n",
      "Epoch 006: | Train Loss: 1.26902 | Val Loss: 1.72656\n",
      "Epoch 007: | Train Loss: 1.41578 | Val Loss: 1.73038\n",
      "Epoch 008: | Train Loss: 1.42286 | Val Loss: 1.63705\n",
      "Epoch 009: | Train Loss: 1.34399 | Val Loss: 1.49785\n",
      "Epoch 010: | Train Loss: 1.22762 | Val Loss: 1.35670\n",
      "Epoch 011: | Train Loss: 1.11643 | Val Loss: 1.25893\n",
      "Epoch 012: | Train Loss: 1.05386 | Val Loss: 1.23799\n",
      "Epoch 013: | Train Loss: 1.06886 | Val Loss: 1.27504\n",
      "Epoch 014: | Train Loss: 1.13436 | Val Loss: 1.29194\n",
      "Epoch 015: | Train Loss: 1.16382 | Val Loss: 1.24707\n",
      "Epoch 016: | Train Loss: 1.11440 | Val Loss: 1.18246\n",
      "Epoch 017: | Train Loss: 1.03349 | Val Loss: 1.14765\n",
      "Epoch 018: | Train Loss: 0.97794 | Val Loss: 1.15232\n",
      "Epoch 019: | Train Loss: 0.96065 | Val Loss: 1.16956\n",
      "Epoch 020: | Train Loss: 0.96285 | Val Loss: 1.17567\n",
      "Epoch 021: | Train Loss: 0.96110 | Val Loss: 1.15294\n",
      "Epoch 022: | Train Loss: 0.93821 | Val Loss: 1.08988\n",
      "Epoch 023: | Train Loss: 0.88496 | Val Loss: 0.98261\n",
      "Epoch 024: | Train Loss: 0.79882 | Val Loss: 0.84056\n",
      "Epoch 025: | Train Loss: 0.69103 | Val Loss: 0.70526\n",
      "Epoch 026: | Train Loss: 0.60099 | Val Loss: 0.62032\n",
      "Epoch 027: | Train Loss: 0.55920 | Val Loss: 0.50537\n",
      "Epoch 028: | Train Loss: 0.46334 | Val Loss: 0.34950\n",
      "Epoch 029: | Train Loss: 0.29330 | Val Loss: 0.25539\n",
      "Epoch 030: | Train Loss: 0.20124 | Val Loss: 0.18727\n",
      "Epoch 031: | Train Loss: 0.15791 | Val Loss: 0.10411\n",
      "Epoch 032: | Train Loss: 0.11606 | Val Loss: 0.07047\n",
      "Epoch 033: | Train Loss: 0.11428 | Val Loss: 0.16576\n",
      "Epoch 034: | Train Loss: 0.19447 | Val Loss: 0.24018\n",
      "Epoch 035: | Train Loss: 0.24625 | Val Loss: 0.16363\n",
      "Epoch 036: | Train Loss: 0.19718 | Val Loss: 0.08965\n",
      "Epoch 037: | Train Loss: 0.15514 | Val Loss: 0.07270\n",
      "Epoch 038: | Train Loss: 0.13470 | Val Loss: 0.06918\n",
      "Epoch 039: | Train Loss: 0.09576 | Val Loss: 0.07501\n",
      "Epoch 040: | Train Loss: 0.07207 | Val Loss: 0.14121\n",
      "Epoch 041: | Train Loss: 0.12915 | Val Loss: 0.10452\n",
      "Epoch 042: | Train Loss: 0.10520 | Val Loss: 0.09040\n",
      "Epoch 043: | Train Loss: 0.09877 | Val Loss: 0.10099\n",
      "Epoch 044: | Train Loss: 0.10977 | Val Loss: 0.06465\n",
      "Epoch 045: | Train Loss: 0.07302 | Val Loss: 0.04909\n",
      "Epoch 046: | Train Loss: 0.04658 | Val Loss: 0.07418\n",
      "Epoch 047: | Train Loss: 0.05709 | Val Loss: 0.03117\n",
      "Epoch 048: | Train Loss: 0.02654 | Val Loss: 0.02892\n",
      "Epoch 049: | Train Loss: 0.03945 | Val Loss: 0.03308\n",
      "Epoch 050: | Train Loss: 0.05237 | Val Loss: 0.03196\n",
      "Epoch 051: | Train Loss: 0.04828 | Val Loss: 0.03983\n",
      "Epoch 052: | Train Loss: 0.05086 | Val Loss: 0.03735\n",
      "Epoch 053: | Train Loss: 0.04722 | Val Loss: 0.01531\n",
      "Epoch 054: | Train Loss: 0.02608 | Val Loss: 0.01688\n",
      "Epoch 055: | Train Loss: 0.02188 | Val Loss: 0.02210\n",
      "Epoch 056: | Train Loss: 0.01672 | Val Loss: 0.03248\n",
      "Epoch 057: | Train Loss: 0.02009 | Val Loss: 0.04290\n",
      "Epoch 058: | Train Loss: 0.02783 | Val Loss: 0.04243\n",
      "Epoch 059: | Train Loss: 0.02518 | Val Loss: 0.04403\n",
      "Epoch 060: | Train Loss: 0.02630 | Val Loss: 0.03355\n",
      "Epoch 061: | Train Loss: 0.01954 | Val Loss: 0.02155\n",
      "Epoch 062: | Train Loss: 0.01392 | Val Loss: 0.01616\n",
      "Epoch 063: | Train Loss: 0.01363 | Val Loss: 0.01085\n",
      "Epoch 064: | Train Loss: 0.01169 | Val Loss: 0.01156\n",
      "Epoch 065: | Train Loss: 0.01513 | Val Loss: 0.00845\n",
      "Epoch 066: | Train Loss: 0.01334 | Val Loss: 0.00576\n",
      "Epoch 067: | Train Loss: 0.01123 | Val Loss: 0.00385\n",
      "Epoch 068: | Train Loss: 0.00750 | Val Loss: 0.00448\n",
      "Epoch 069: | Train Loss: 0.00457 | Val Loss: 0.00780\n",
      "Epoch 070: | Train Loss: 0.00528 | Val Loss: 0.00915\n",
      "Epoch 071: | Train Loss: 0.00574 | Val Loss: 0.01183\n",
      "Epoch 072: | Train Loss: 0.00790 | Val Loss: 0.01050\n",
      "Epoch 073: | Train Loss: 0.00654 | Val Loss: 0.00862\n",
      "Epoch 074: | Train Loss: 0.00585 | Val Loss: 0.00428\n",
      "Epoch 075: | Train Loss: 0.00308 | Val Loss: 0.00314\n",
      "Epoch 076: | Train Loss: 0.00313 | Val Loss: 0.00160\n",
      "Epoch 077: | Train Loss: 0.00277 | Val Loss: 0.00250\n",
      "Epoch 078: | Train Loss: 0.00432 | Val Loss: 0.00182\n",
      "Epoch 079: | Train Loss: 0.00382 | Val Loss: 0.00163\n",
      "Epoch 080: | Train Loss: 0.00358 | Val Loss: 0.00061\n",
      "Epoch 081: | Train Loss: 0.00183 | Val Loss: 0.00145\n",
      "Epoch 082: | Train Loss: 0.00158 | Val Loss: 0.00172\n",
      "Epoch 083: | Train Loss: 0.00132 | Val Loss: 0.00292\n",
      "Epoch 084: | Train Loss: 0.00202 | Val Loss: 0.00368\n",
      "Epoch 085: | Train Loss: 0.00198 | Val Loss: 0.00359\n",
      "Epoch 086: | Train Loss: 0.00181 | Val Loss: 0.00236\n",
      "Epoch 087: | Train Loss: 0.00128 | Val Loss: 0.00162\n",
      "Epoch 088: | Train Loss: 0.00101 | Val Loss: 0.00153\n",
      "Epoch 089: | Train Loss: 0.00122 | Val Loss: 0.00104\n",
      "Epoch 090: | Train Loss: 0.00124 | Val Loss: 0.00083\n",
      "Epoch 091: | Train Loss: 0.00138 | Val Loss: 0.00043\n",
      "Epoch 092: | Train Loss: 0.00087 | Val Loss: 0.00046\n",
      "Epoch 093: | Train Loss: 0.00068 | Val Loss: 0.00024\n",
      "Epoch 094: | Train Loss: 0.00045 | Val Loss: 0.00050\n",
      "Epoch 095: | Train Loss: 0.00057 | Val Loss: 0.00090\n",
      "Epoch 096: | Train Loss: 0.00073 | Val Loss: 0.00074\n",
      "Epoch 097: | Train Loss: 0.00064 | Val Loss: 0.00055\n",
      "Epoch 098: | Train Loss: 0.00059 | Val Loss: 0.00025\n",
      "Epoch 099: | Train Loss: 0.00034 | Val Loss: 0.00019\n",
      "Epoch 100: | Train Loss: 0.00036 | Val Loss: 0.00019\n",
      "Epoch 101: | Train Loss: 0.00041 | Val Loss: 0.00020\n",
      "Epoch 102: | Train Loss: 0.00042 | Val Loss: 0.00020\n",
      "Epoch 103: | Train Loss: 0.00042 | Val Loss: 0.00008\n",
      "Epoch 104: | Train Loss: 0.00024 | Val Loss: 0.00008\n",
      "Epoch 105: | Train Loss: 0.00020 | Val Loss: 0.00013\n",
      "Epoch 106: | Train Loss: 0.00020 | Val Loss: 0.00017\n",
      "Epoch 107: | Train Loss: 0.00021 | Val Loss: 0.00021\n",
      "Epoch 108: | Train Loss: 0.00026 | Val Loss: 0.00019\n",
      "Epoch 109: | Train Loss: 0.00019 | Val Loss: 0.00016\n",
      "Epoch 110: | Train Loss: 0.00016 | Val Loss: 0.00008\n",
      "Epoch 111: | Train Loss: 0.00015 | Val Loss: 0.00008\n",
      "Epoch 112: | Train Loss: 0.00015 | Val Loss: 0.00013\n",
      "Epoch 113: | Train Loss: 0.00018 | Val Loss: 0.00008\n",
      "Epoch 114: | Train Loss: 0.00015 | Val Loss: 0.00004\n",
      "Epoch 115: | Train Loss: 0.00011 | Val Loss: 0.00005\n",
      "Epoch 116: | Train Loss: 0.00010 | Val Loss: 0.00005\n",
      "Epoch 117: | Train Loss: 0.00009 | Val Loss: 0.00007\n",
      "Epoch 118: | Train Loss: 0.00011 | Val Loss: 0.00007\n",
      "Epoch 119: | Train Loss: 0.00013 | Val Loss: 0.00004\n",
      "Epoch 120: | Train Loss: 0.00010 | Val Loss: 0.00003\n",
      "Epoch 121: | Train Loss: 0.00008 | Val Loss: 0.00003\n",
      "Epoch 122: | Train Loss: 0.00008 | Val Loss: 0.00003\n",
      "Epoch 123: | Train Loss: 0.00008 | Val Loss: 0.00004\n",
      "Epoch 124: | Train Loss: 0.00009 | Val Loss: 0.00004\n",
      "Epoch 125: | Train Loss: 0.00009 | Val Loss: 0.00001\n",
      "Epoch 126: | Train Loss: 0.00007 | Val Loss: 0.00001\n",
      "Epoch 127: | Train Loss: 0.00006 | Val Loss: 0.00001\n",
      "Epoch 128: | Train Loss: 0.00006 | Val Loss: 0.00001\n",
      "Epoch 129: | Train Loss: 0.00007 | Val Loss: 0.00002\n",
      "Epoch 130: | Train Loss: 0.00007 | Val Loss: 0.00002\n",
      "Epoch 131: | Train Loss: 0.00007 | Val Loss: 0.00001\n",
      "Epoch 132: | Train Loss: 0.00006 | Val Loss: 0.00001\n",
      "Epoch 133: | Train Loss: 0.00006 | Val Loss: 0.00001\n",
      "Epoch 134: | Train Loss: 0.00006 | Val Loss: 0.00001\n",
      "Epoch 135: | Train Loss: 0.00006 | Val Loss: 0.00001\n",
      "Epoch 136: | Train Loss: 0.00006 | Val Loss: 0.00001\n",
      "Epoch 137: | Train Loss: 0.00005 | Val Loss: 0.00000\n",
      "Epoch 138: | Train Loss: 0.00005 | Val Loss: 0.00000\n",
      "Epoch 139: | Train Loss: 0.00005 | Val Loss: 0.00001\n",
      "Epoch 140: | Train Loss: 0.00005 | Val Loss: 0.00001\n",
      "Epoch 141: | Train Loss: 0.00005 | Val Loss: 0.00000\n",
      "Epoch 142: | Train Loss: 0.00005 | Val Loss: 0.00000\n",
      "Epoch 143: | Train Loss: 0.00005 | Val Loss: 0.00001\n",
      "Epoch 144: | Train Loss: 0.00005 | Val Loss: 0.00000\n",
      "Epoch 145: | Train Loss: 0.00005 | Val Loss: 0.00000\n",
      "Epoch 146: | Train Loss: 0.00005 | Val Loss: 0.00000\n",
      "Epoch 147: | Train Loss: 0.00004 | Val Loss: 0.00000\n",
      "Epoch 148: | Train Loss: 0.00004 | Val Loss: 0.00000\n",
      "Epoch 149: | Train Loss: 0.00004 | Val Loss: 0.00000\n",
      "Epoch 150: | Train Loss: 0.00004 | Val Loss: 0.00000\n",
      "Epoch 151: | Train Loss: 0.00004 | Val Loss: 0.00000\n",
      "Epoch 152: | Train Loss: 0.00004 | Val Loss: 0.00000\n",
      "Epoch 153: | Train Loss: 0.00004 | Val Loss: 0.00000\n",
      "Epoch 154: | Train Loss: 0.00004 | Val Loss: 0.00000\n",
      "Epoch 155: | Train Loss: 0.00004 | Val Loss: 0.00000\n",
      "Epoch 156: | Train Loss: 0.00004 | Val Loss: 0.00000\n",
      "Epoch 157: | Train Loss: 0.00004 | Val Loss: 0.00000\n",
      "Epoch 158: | Train Loss: 0.00004 | Val Loss: 0.00000\n",
      "Epoch 159: | Train Loss: 0.00004 | Val Loss: 0.00000\n",
      "Epoch 160: | Train Loss: 0.00004 | Val Loss: 0.00000\n",
      "Epoch 161: | Train Loss: 0.00004 | Val Loss: 0.00000\n",
      "Epoch 162: | Train Loss: 0.00004 | Val Loss: 0.00000\n",
      "Epoch 163: | Train Loss: 0.00003 | Val Loss: 0.00000\n",
      "Epoch 164: | Train Loss: 0.00003 | Val Loss: 0.00000\n",
      "Epoch 165: | Train Loss: 0.00003 | Val Loss: 0.00000\n",
      "Epoch 166: | Train Loss: 0.00003 | Val Loss: 0.00000\n",
      "Epoch 167: | Train Loss: 0.00003 | Val Loss: 0.00000\n",
      "Epoch 168: | Train Loss: 0.00003 | Val Loss: 0.00000\n",
      "Epoch 169: | Train Loss: 0.00003 | Val Loss: 0.00000\n",
      "Epoch 170: | Train Loss: 0.00003 | Val Loss: 0.00000\n",
      "Epoch 171: | Train Loss: 0.00003 | Val Loss: 0.00000\n",
      "Epoch 172: | Train Loss: 0.00003 | Val Loss: 0.00000\n",
      "Epoch 173: | Train Loss: 0.00003 | Val Loss: 0.00000\n",
      "Epoch 174: | Train Loss: 0.00003 | Val Loss: 0.00000\n",
      "Epoch 175: | Train Loss: 0.00003 | Val Loss: 0.00000\n",
      "Epoch 176: | Train Loss: 0.00003 | Val Loss: 0.00000\n",
      "Epoch 177: | Train Loss: 0.00003 | Val Loss: 0.00000\n",
      "Epoch 178: | Train Loss: 0.00003 | Val Loss: 0.00000\n",
      "Epoch 179: | Train Loss: 0.00003 | Val Loss: 0.00000\n",
      "Epoch 180: | Train Loss: 0.00003 | Val Loss: 0.00000\n",
      "Epoch 181: | Train Loss: 0.00003 | Val Loss: 0.00000\n",
      "Epoch 182: | Train Loss: 0.00003 | Val Loss: 0.00000\n",
      "Epoch 183: | Train Loss: 0.00003 | Val Loss: 0.00000\n",
      "Epoch 184: | Train Loss: 0.00003 | Val Loss: 0.00000\n",
      "Epoch 185: | Train Loss: 0.00003 | Val Loss: 0.00000\n",
      "Epoch 186: | Train Loss: 0.00003 | Val Loss: 0.00000\n",
      "Epoch 187: | Train Loss: 0.00003 | Val Loss: 0.00000\n",
      "Epoch 188: | Train Loss: 0.00003 | Val Loss: 0.00000\n",
      "Epoch 189: | Train Loss: 0.00002 | Val Loss: 0.00000\n",
      "Epoch 190: | Train Loss: 0.00002 | Val Loss: 0.00000\n",
      "Epoch 191: | Train Loss: 0.00002 | Val Loss: 0.00000\n",
      "Epoch 192: | Train Loss: 0.00002 | Val Loss: 0.00000\n",
      "Epoch 193: | Train Loss: 0.00002 | Val Loss: 0.00000\n",
      "Epoch 194: | Train Loss: 0.00002 | Val Loss: 0.00000\n",
      "Epoch 195: | Train Loss: 0.00002 | Val Loss: 0.00000\n",
      "Epoch 196: | Train Loss: 0.00002 | Val Loss: 0.00000\n",
      "Epoch 197: | Train Loss: 0.00002 | Val Loss: 0.00000\n",
      "Epoch 198: | Train Loss: 0.00002 | Val Loss: 0.00000\n",
      "Epoch 199: | Train Loss: 0.00002 | Val Loss: 0.00000\n",
      "Epoch 200: | Train Loss: 0.00002 | Val Loss: 0.00000\n"
     ]
    }
   ],
   "source": [
    "print(\"Begin training.\")\n",
    "\n",
    "for e in tqdm(range(1, EPOCHS+1)):\n",
    "    \n",
    "    # TRAINING\n",
    "    train_epoch_loss = 0\n",
    "    \n",
    "    model.train()\n",
    "    for train_x_batch, train_y_batch in train_loader:\n",
    "        train_x_batch, train_y_batch = train_x_batch.to(device), train_y_batch.to(device)\n",
    "        optimizer.zero_grad()\n",
    "        \n",
    "        train_y_pred = model(train_x_batch)\n",
    "        \n",
    "        train_loss = criterion(train_y_pred, train_y_batch.unsqueeze(1))\n",
    "        \n",
    "        train_loss.backward()\n",
    "        optimizer.step()\n",
    "        \n",
    "        train_epoch_loss += train_loss.item()\n",
    "        \n",
    "    #VALIDATION\n",
    "    with torch.no_grad():\n",
    "        val_epoch_loss = 0\n",
    "        \n",
    "        model.eval()\n",
    "        for x_val_batch, y_val_batch in val_loader:\n",
    "            x_val_batch, y_val_batch = x_val_batch.to(device), y_val_batch.to(device)\n",
    "            \n",
    "            y_val_pred = model(x_val_batch)\n",
    "                        \n",
    "            val_loss = criterion(y_val_pred, y_val_batch.unsqueeze(1))\n",
    "            \n",
    "            val_epoch_loss += val_loss.item()\n",
    "    \n",
    "    loss_stats['train'].append(train_epoch_loss/len(train_loader))\n",
    "    loss_stats['val'].append(val_epoch_loss/len(val_loader))                              \n",
    "    \n",
    "    print(f'Epoch {e+0:03}: | Train Loss: {train_epoch_loss/len(train_loader):.5f} | Val Loss: {val_epoch_loss/len(val_loader):.5f}')\n",
    "        "
   ]
  },
  {
   "cell_type": "code",
   "execution_count": 449,
   "id": "c288d91f",
   "metadata": {},
   "outputs": [
    {
     "data": {
      "text/plain": [
       "Text(0.5, 1.0, 'Train-Val Loss/Epoch')"
      ]
     },
     "execution_count": 449,
     "metadata": {},
     "output_type": "execute_result"
    },
    {
     "data": {
      "image/png": "[encoded data removed]",
      "text/plain": [
       "<Figure size 1080x576 with 1 Axes>"
      ]
     },
     "metadata": {
      "needs_background": "light"
     },
     "output_type": "display_data"
    }
   ],
   "source": [
    "#Visualize Loss and Accuracy\n",
    "train_val_loss_df = pd.DataFrame.from_dict(loss_stats).reset_index().melt(id_vars=['index']).rename(columns={\"index\":\"epochs\"})\n",
    "plt.figure(figsize=(15,8))\n",
    "sns.lineplot(data=train_val_loss_df, x = \"epochs\", y=\"value\", hue=\"variable\").set_title('Train-Val Loss/Epoch')"
   ]
  },
  {
   "cell_type": "code",
   "execution_count": 450,
   "id": "fceacc80",
   "metadata": {},
   "outputs": [],
   "source": [
    "pred_y_list = []\n",
    "\n",
    "with torch.no_grad():\n",
    "    model.eval()\n",
    "    for X_batch, _ in test_loader:\n",
    "        X_batch = X_batch.to(device)\n",
    "        test_y_pred = model(X_batch)\n",
    "        pred_y_list.append(test_y_pred.cpu().numpy())\n",
    "pred_y_list = [a.squeeze().tolist() for a in pred_y_list]"
   ]
  },
  {
   "cell_type": "code",
   "execution_count": 451,
   "id": "0d732ac7",
   "metadata": {},
   "outputs": [
    {
     "name": "stdout",
     "output_type": "stream",
     "text": [
      "Mean Squared Error : 0.0012048954625251747\n",
      "R^2 : 0.9982597628871303\n"
     ]
    }
   ],
   "source": [
    "mse = mean_squared_error(test_y, pred_y_list)\n",
    "r_square = r2_score(test_y, pred_y_list)\n",
    "print(\"Mean Squared Error :\",mse)\n",
    "print(\"R^2 :\",r_square)"
   ]
  },
  {
   "cell_type": "code",
   "execution_count": 452,
   "id": "9a9707cb",
   "metadata": {},
   "outputs": [
    {
     "data": {
      "image/png": "[encoded data removed]",
      "text/plain": [
       "<Figure size 432x288 with 1 Axes>"
      ]
     },
     "metadata": {
      "needs_background": "light"
     },
     "output_type": "display_data"
    }
   ],
   "source": [
    "plt.scatter(test_y, pred_y_list)\n",
    "plt.plot(test_y,test_y,'k-') # identity line\n",
    "font_axis_publish = {\n",
    "        'color':  'black',\n",
    "        'weight': 'bold',\n",
    "        'size': 16}\n",
    "plt.title(\"Parity Plot\", fontdict=font_axis_publish)\n",
    "plt.xlabel('True Creatine Level', fontdict=font_axis_publish)\n",
    "plt.ylabel('Prediction', fontdict=font_axis_publish)\n",
    "plt.show()"
   ]
  },
  {
   "cell_type": "code",
   "execution_count": 462,
   "id": "b8c6db36",
   "metadata": {},
   "outputs": [
    {
     "name": "stdout",
     "output_type": "stream",
     "text": [
      "Mean absolute Error : 0.004835316220919289\n"
     ]
    }
   ],
   "source": [
    "mae = mean_absolute_error(test_y, pred_y_list)\n",
    "print(\"Mean absolute Error :\",mae)"
   ]
  },
  {
   "cell_type": "code",
   "execution_count": 463,
   "id": "d59f1859",
   "metadata": {},
   "outputs": [
    {
     "name": "stdout",
     "output_type": "stream",
     "text": [
      "[0.6  1.9  1.3  5.   0.9  1.1  1.5  1.   1.   1.83 1.   1.1  0.9  0.8\n",
      " 4.   1.3  2.3  1.4  1.1  1.2  1.7  1.83 1.1  1.   1.   1.   1.4  0.9\n",
      " 1.   1.1  2.7  0.9  1.4  1.18 1.2  3.7  1.3  0.9  2.5  0.8  0.7  1.3\n",
      " 1.18 0.9  1.2  1.2  0.8  1.1  0.75 1.   1.5  3.2  0.7  1.   0.8  2.3\n",
      " 1.   1.1  1.18 0.7 ]\n"
     ]
    }
   ],
   "source": [
    "print(test_y)"
   ]
  },
  {
   "cell_type": "code",
   "execution_count": 464,
   "id": "ab76d7bd",
   "metadata": {},
   "outputs": [
    {
     "name": "stdout",
     "output_type": "stream",
     "text": [
      "[0.5992206931114197, 1.9002594947814941, 1.299753189086914, 5.268850803375244, 0.9003709554672241, 1.0996005535125732, 1.4998843669891357, 0.9996930360794067, 0.9998158812522888, 1.830265760421753, 1.0001156330108643, 1.1002731323242188, 0.9002848863601685, 0.8006906509399414, 3.999767780303955, 1.2998027801513672, 2.300045967102051, 1.3999009132385254, 1.100212574005127, 1.1996662616729736, 1.6987571716308594, 1.8298943042755127, 1.100266933441162, 1.0003280639648438, 0.999553382396698, 1.000410795211792, 1.4004358053207397, 0.899750828742981, 1.0003459453582764, 1.1006335020065308, 2.698521852493286, 0.9008842706680298, 1.4000024795532227, 1.1801135540008545, 1.1996309757232666, 3.699563980102539, 1.2988219261169434, 0.8998833894729614, 2.4996695518493652, 0.8003714084625244, 0.6994197368621826, 1.2999602556228638, 1.1793417930603027, 0.9001645445823669, 1.1997206211090088, 1.1999139785766602, 0.7994904518127441, 1.0995272397994995, 0.7498379945755005, 1.0002331733703613, 1.5004057884216309, 3.2004315853118896, 0.6999703645706177, 0.999832034111023, 0.7999330759048462, 2.2990190982818604, 0.9997466206550598, 1.1002466678619385, 1.1797494888305664, 0.7000901699066162]\n"
     ]
    }
   ],
   "source": [
    "print(pred_y_list)"
   ]
  },
  {
   "cell_type": "code",
   "execution_count": null,
   "id": "9b39fe01",
   "metadata": {},
   "outputs": [],
   "source": []
  }
 ],
 "metadata": {
  "kernelspec": {
   "display_name": "Python 3 (ipykernel)",
   "language": "python",
   "name": "python3"
  },
  "language_info": {
   "codemirror_mode": {
    "name": "ipython",
    "version": 3
   },
   "file_extension": ".py",
   "mimetype": "text/x-python",
   "name": "python",
   "nbconvert_exporter": "python",
   "pygments_lexer": "ipython3",
   "version": "3.9.7"
  }
 },
 "nbformat": 4,
 "nbformat_minor": 5
}
